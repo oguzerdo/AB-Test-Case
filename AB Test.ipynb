{
 "cells": [
  {
   "cell_type": "markdown",
   "metadata": {},
   "source": [
    "<a href=\"https://www.oguzerdogan.com/\">\n",
    "    <img src=\"https://www.oguzerdogan.com/wp-content/uploads/2020/10/logo_oz.png\" width=\"200\" align=\"right\">\n",
    "</a>"
   ]
  },
  {
   "cell_type": "markdown",
   "metadata": {},
   "source": [
    "<center><h1><strong>A/B TEST & CONVERSION RATE PROJECT </strong></h1>\n",
    "<img\n",
    "src=\"https://www.oguzerdogan.com/wp-content/uploads/2020/11/a-b-testing.jpg\">\n",
    "</center>"
   ]
  },
  {
   "cell_type": "markdown",
   "metadata": {},
   "source": [
    "# Analyze and Present A/B Test Results  "
   ]
  },
  {
   "cell_type": "markdown",
   "metadata": {},
   "source": [
    "**This research was conducted in order to answer the questions asked for a job interview.**"
   ]
  },
  {
   "cell_type": "markdown",
   "metadata": {},
   "source": [
    "\n",
    "Facebook recently introduced a new bidding type, **\"average bidding”**, as an alternative to its exisiting bidding type, called **maximum bidding”**. \n",
    "\n",
    "One of our clients, **bombabomba.com**, has decided to test this new feature and wants to conduct an A/B test to understand if average bidding brings more conversions than maximum bidding.  \n",
    "\n",
    "In this A/B test, bombabomba.com randomly splits its audience into two equally sized groups, e.g. the test and the control group. \n",
    "\n",
    "A Facebook ad campaign with “maximum bidding” is served to “control group” and another campaign with “average bidding” is served to the “test group”.  \n",
    "\n",
    "The A/B test run for 1 month and bombabomba.com now expects you to analyze and present the results of this A/B test.\n"
   ]
  },
  {
   "cell_type": "markdown",
   "metadata": {},
   "source": [
    "<div class=\"alert alert-block alert-info\" style=\"margin-top: 20px\">\n",
    "<p><strong>You should answer the following questions in your presentation:</strong></p>\n",
    "<ol>\n",
    "<li>How would you define the hypothesis of this A/B test?</li>\n",
    "<li>Can we conclude statistically significant results?</li>\n",
    "<li>Which statistical test did you use, and why ?</li>\n",
    "<li>Based on your answer to Question 2, what would be your recommendation to client?</li>\n",
    "\n",
    "</ol>\n",
    "</div>"
   ]
  },
  {
   "cell_type": "markdown",
   "metadata": {},
   "source": [
    "# &#128217; Load Libraries"
   ]
  },
  {
   "cell_type": "code",
   "execution_count": 1,
   "metadata": {},
   "outputs": [
    {
     "data": {
      "text/html": [
       "<style> \n",
       "@import url('https://fonts.googleapis.com/css?family=Orbitron|Roboto');\n",
       "a {color: #37c9e1; font-family: 'Roboto';} \n",
       "h1 {color: #C20E69; font-family: 'Poppins'} \n",
       "h2, h3 {color: #25B89B; font-family: 'Poppins';}\n",
       "h4 {color: #818286; font-family: 'Roboto';}\n",
       "                                      \n",
       "</style>\n"
      ],
      "text/plain": [
       "<IPython.core.display.HTML object>"
      ]
     },
     "metadata": {},
     "output_type": "display_data"
    }
   ],
   "source": [
    "%%html\n",
    "<style> \n",
    "@import url('https://fonts.googleapis.com/css?family=Orbitron|Roboto');\n",
    "a {color: #37c9e1; font-family: 'Roboto';} \n",
    "h1 {color: #C20E69; font-family: 'Poppins'} \n",
    "h2, h3 {color: #25B89B; font-family: 'Poppins';}\n",
    "h4 {color: #818286; font-family: 'Roboto';}\n",
    "                                      \n",
    "</style>"
   ]
  },
  {
   "cell_type": "code",
   "execution_count": 35,
   "metadata": {},
   "outputs": [],
   "source": [
    "# Libraries\n",
    "\n",
    "# Main\n",
    "#----------------------\n",
    "import pandas as pd\n",
    "import numpy as np\n",
    "from abtest import *\n",
    "\n",
    "# Data Viz\n",
    "#----------------------\n",
    "import seaborn as sns\n",
    "import matplotlib.pyplot as plt\n",
    "import pylab\n",
    "plt.style.use('fivethirtyeight')\n",
    "\n",
    "# Stats\n",
    "#----------------------\n",
    "from scipy import stats\n",
    "from scipy.stats import skewtest\n",
    "from scipy.stats import median_test\n",
    "from scipy.stats import shapiro \n",
    "from statsmodels.stats.proportion import proportions_ztest \n",
    "\n",
    "# Settings\n",
    "#----------------------\n",
    "pd.set_option(\"display.max_columns\",None);\n",
    "pd.set_option(\"display.max_rows\",None);\n"
   ]
  },
  {
   "cell_type": "markdown",
   "metadata": {},
   "source": [
    "# &#128214; Read Data"
   ]
  },
  {
   "cell_type": "code",
   "execution_count": 36,
   "metadata": {},
   "outputs": [],
   "source": [
    "control = pd.read_excel(r\"C:\\Users\\oe\\VBO\\datasets\\ab_testing_data.xlsx\", sheet_name=\"Control Group\")\n",
    "test = pd.read_excel(r\"C:\\Users\\oe\\VBO\\datasets\\ab_testing_data.xlsx\", sheet_name=\"Test Group\")"
   ]
  },
  {
   "cell_type": "markdown",
   "metadata": {},
   "source": [
    "## &#128270; Descriptive Statistics"
   ]
  },
  {
   "cell_type": "code",
   "execution_count": 37,
   "metadata": {},
   "outputs": [],
   "source": [
    "def descriptive_statistics(dataframe):\n",
    "    print(\"Data Descriptive Statistics\",\"\\n\")\n",
    "    name =[x for x in globals() if globals()[x] is dataframe][0]\n",
    "    print(\"Dataframe: %s\" % name,\"\\n\")\n",
    "    print(\"Data Shape: \",dataframe.shape,\"\\n\")\n",
    "    print(dataframe.info(),\"\\n\")\n",
    "    print(\"First 3 rows:\",\"\\n\",dataframe.head(3),\"\\n\")\n",
    "    if dataframe.isna().any().sum() == 0:\n",
    "        print(\"There are no missing value.\")\n",
    "    else:\n",
    "        print(dataframe.isna().any().sum())\n",
    "    print(\"_\"*60)"
   ]
  },
  {
   "cell_type": "code",
   "execution_count": 38,
   "metadata": {},
   "outputs": [
    {
     "name": "stdout",
     "output_type": "stream",
     "text": [
      "\n",
      "Data Descriptive Statistics \n",
      "\n",
      "Dataframe: control \n",
      "\n",
      "Data Shape:  (40, 4) \n",
      "\n",
      "<class 'pandas.core.frame.DataFrame'>\n",
      "RangeIndex: 40 entries, 0 to 39\n",
      "Data columns (total 4 columns):\n",
      " #   Column      Non-Null Count  Dtype  \n",
      "---  ------      --------------  -----  \n",
      " 0   Impression  40 non-null     float64\n",
      " 1   Click       40 non-null     float64\n",
      " 2   Purchase    40 non-null     float64\n",
      " 3   Earning     40 non-null     float64\n",
      "dtypes: float64(4)\n",
      "memory usage: 1.4 KB\n",
      "None \n",
      "\n",
      "First 3 rows: \n",
      "      Impression        Click    Purchase      Earning\n",
      "0  82529.459271  6090.077317  665.211255  2311.277143\n",
      "1  98050.451926  3382.861786  315.084895  1742.806855\n",
      "2  82696.023549  4167.965750  458.083738  1797.827447 \n",
      "\n",
      "There are no missing value.\n",
      "____________________________________________________________\n",
      "\n",
      "Data Descriptive Statistics \n",
      "\n",
      "Dataframe: test \n",
      "\n",
      "Data Shape:  (40, 4) \n",
      "\n",
      "<class 'pandas.core.frame.DataFrame'>\n",
      "RangeIndex: 40 entries, 0 to 39\n",
      "Data columns (total 4 columns):\n",
      " #   Column      Non-Null Count  Dtype  \n",
      "---  ------      --------------  -----  \n",
      " 0   Impression  40 non-null     float64\n",
      " 1   Click       40 non-null     float64\n",
      " 2   Purchase    40 non-null     float64\n",
      " 3   Earning     40 non-null     float64\n",
      "dtypes: float64(4)\n",
      "memory usage: 1.4 KB\n",
      "None \n",
      "\n",
      "First 3 rows: \n",
      "       Impression        Click    Purchase      Earning\n",
      "0  120103.503796  3216.547958  702.160346  1939.611243\n",
      "1  134775.943363  3635.082422  834.054286  2929.405820\n",
      "2  107806.620788  3057.143560  422.934258  2526.244877 \n",
      "\n",
      "There are no missing value.\n",
      "____________________________________________________________\n"
     ]
    }
   ],
   "source": [
    "for i in [control,test]:\n",
    "    print()\n",
    "    descriptive_statistics(i)"
   ]
  },
  {
   "cell_type": "markdown",
   "metadata": {},
   "source": [
    "In this research,  there are two different groups and will investigate whether there is a statistically significant difference between the averages of these two different groups.\n",
    "\n",
    "We have 40 observation and 4 feature in this dataset. \n",
    "\n",
    "Two different groups will be taken from the **\"Purchase\"** column for comparison.\n",
    "\n",
    "Control group is standart bidding type \" Maximum Bidding \"\n",
    "\n",
    "Test Group is new bidding type \"Average Bidding \""
   ]
  },
  {
   "cell_type": "code",
   "execution_count": 39,
   "metadata": {},
   "outputs": [
    {
     "data": {
      "text/html": [
       "<div>\n",
       "<style scoped>\n",
       "    .dataframe tbody tr th:only-of-type {\n",
       "        vertical-align: middle;\n",
       "    }\n",
       "\n",
       "    .dataframe tbody tr th {\n",
       "        vertical-align: top;\n",
       "    }\n",
       "\n",
       "    .dataframe thead th {\n",
       "        text-align: right;\n",
       "    }\n",
       "</style>\n",
       "<table border=\"1\" class=\"dataframe\">\n",
       "  <thead>\n",
       "    <tr style=\"text-align: right;\">\n",
       "      <th></th>\n",
       "      <th>count</th>\n",
       "      <th>mean</th>\n",
       "      <th>std</th>\n",
       "      <th>min</th>\n",
       "      <th>10%</th>\n",
       "      <th>25%</th>\n",
       "      <th>50%</th>\n",
       "      <th>75%</th>\n",
       "      <th>90%</th>\n",
       "      <th>95%</th>\n",
       "      <th>99%</th>\n",
       "      <th>max</th>\n",
       "    </tr>\n",
       "  </thead>\n",
       "  <tbody>\n",
       "    <tr>\n",
       "      <th>Impression</th>\n",
       "      <td>40.0</td>\n",
       "      <td>101711.449068</td>\n",
       "      <td>20302.157862</td>\n",
       "      <td>45475.942965</td>\n",
       "      <td>81711.120315</td>\n",
       "      <td>85726.690349</td>\n",
       "      <td>99790.701078</td>\n",
       "      <td>115212.816543</td>\n",
       "      <td>129438.442526</td>\n",
       "      <td>132950.532455</td>\n",
       "      <td>143105.791105</td>\n",
       "      <td>147539.336329</td>\n",
       "    </tr>\n",
       "    <tr>\n",
       "      <th>Click</th>\n",
       "      <td>40.0</td>\n",
       "      <td>5100.657373</td>\n",
       "      <td>1329.985498</td>\n",
       "      <td>2189.753157</td>\n",
       "      <td>3582.086578</td>\n",
       "      <td>4124.304129</td>\n",
       "      <td>5001.220602</td>\n",
       "      <td>5923.803596</td>\n",
       "      <td>7010.163109</td>\n",
       "      <td>7374.361202</td>\n",
       "      <td>7761.795112</td>\n",
       "      <td>7959.125069</td>\n",
       "    </tr>\n",
       "    <tr>\n",
       "      <th>Purchase</th>\n",
       "      <td>40.0</td>\n",
       "      <td>550.894059</td>\n",
       "      <td>134.108201</td>\n",
       "      <td>267.028943</td>\n",
       "      <td>381.992696</td>\n",
       "      <td>470.095533</td>\n",
       "      <td>531.206307</td>\n",
       "      <td>637.957088</td>\n",
       "      <td>740.182038</td>\n",
       "      <td>748.270761</td>\n",
       "      <td>790.187785</td>\n",
       "      <td>801.795020</td>\n",
       "    </tr>\n",
       "    <tr>\n",
       "      <th>Earning</th>\n",
       "      <td>40.0</td>\n",
       "      <td>1908.568300</td>\n",
       "      <td>302.917783</td>\n",
       "      <td>1253.989525</td>\n",
       "      <td>1569.055776</td>\n",
       "      <td>1685.847205</td>\n",
       "      <td>1975.160522</td>\n",
       "      <td>2119.802784</td>\n",
       "      <td>2254.805009</td>\n",
       "      <td>2318.528498</td>\n",
       "      <td>2481.308737</td>\n",
       "      <td>2497.295218</td>\n",
       "    </tr>\n",
       "  </tbody>\n",
       "</table>\n",
       "</div>"
      ],
      "text/plain": [
       "            count           mean           std           min           10%  \\\n",
       "Impression   40.0  101711.449068  20302.157862  45475.942965  81711.120315   \n",
       "Click        40.0    5100.657373   1329.985498   2189.753157   3582.086578   \n",
       "Purchase     40.0     550.894059    134.108201    267.028943    381.992696   \n",
       "Earning      40.0    1908.568300    302.917783   1253.989525   1569.055776   \n",
       "\n",
       "                     25%           50%            75%            90%  \\\n",
       "Impression  85726.690349  99790.701078  115212.816543  129438.442526   \n",
       "Click        4124.304129   5001.220602    5923.803596    7010.163109   \n",
       "Purchase      470.095533    531.206307     637.957088     740.182038   \n",
       "Earning      1685.847205   1975.160522    2119.802784    2254.805009   \n",
       "\n",
       "                      95%            99%            max  \n",
       "Impression  132950.532455  143105.791105  147539.336329  \n",
       "Click         7374.361202    7761.795112    7959.125069  \n",
       "Purchase       748.270761     790.187785     801.795020  \n",
       "Earning       2318.528498    2481.308737    2497.295218  "
      ]
     },
     "execution_count": 39,
     "metadata": {},
     "output_type": "execute_result"
    }
   ],
   "source": [
    "control.describe([0.10, 0.25, 0.50, 0.75, 0.90, 0.95, 0.99]).T"
   ]
  },
  {
   "cell_type": "code",
   "execution_count": 40,
   "metadata": {},
   "outputs": [
    {
     "data": {
      "text/html": [
       "<div>\n",
       "<style scoped>\n",
       "    .dataframe tbody tr th:only-of-type {\n",
       "        vertical-align: middle;\n",
       "    }\n",
       "\n",
       "    .dataframe tbody tr th {\n",
       "        vertical-align: top;\n",
       "    }\n",
       "\n",
       "    .dataframe thead th {\n",
       "        text-align: right;\n",
       "    }\n",
       "</style>\n",
       "<table border=\"1\" class=\"dataframe\">\n",
       "  <thead>\n",
       "    <tr style=\"text-align: right;\">\n",
       "      <th></th>\n",
       "      <th>count</th>\n",
       "      <th>mean</th>\n",
       "      <th>std</th>\n",
       "      <th>min</th>\n",
       "      <th>10%</th>\n",
       "      <th>25%</th>\n",
       "      <th>50%</th>\n",
       "      <th>75%</th>\n",
       "      <th>90%</th>\n",
       "      <th>95%</th>\n",
       "      <th>99%</th>\n",
       "      <th>max</th>\n",
       "    </tr>\n",
       "  </thead>\n",
       "  <tbody>\n",
       "    <tr>\n",
       "      <th>Impression</th>\n",
       "      <td>40.0</td>\n",
       "      <td>120512.411758</td>\n",
       "      <td>18807.448712</td>\n",
       "      <td>79033.834921</td>\n",
       "      <td>97389.766706</td>\n",
       "      <td>112691.970770</td>\n",
       "      <td>119291.300775</td>\n",
       "      <td>132050.578933</td>\n",
       "      <td>141739.315249</td>\n",
       "      <td>153178.691063</td>\n",
       "      <td>158245.263797</td>\n",
       "      <td>158605.920483</td>\n",
       "    </tr>\n",
       "    <tr>\n",
       "      <th>Click</th>\n",
       "      <td>40.0</td>\n",
       "      <td>3967.549761</td>\n",
       "      <td>923.095073</td>\n",
       "      <td>1836.629861</td>\n",
       "      <td>2917.265312</td>\n",
       "      <td>3376.819024</td>\n",
       "      <td>3931.359804</td>\n",
       "      <td>4660.497911</td>\n",
       "      <td>5074.011379</td>\n",
       "      <td>5271.186906</td>\n",
       "      <td>6012.877296</td>\n",
       "      <td>6019.695079</td>\n",
       "    </tr>\n",
       "    <tr>\n",
       "      <th>Purchase</th>\n",
       "      <td>40.0</td>\n",
       "      <td>582.106097</td>\n",
       "      <td>161.152513</td>\n",
       "      <td>311.629515</td>\n",
       "      <td>381.054983</td>\n",
       "      <td>444.626828</td>\n",
       "      <td>551.355732</td>\n",
       "      <td>699.862360</td>\n",
       "      <td>823.745360</td>\n",
       "      <td>854.208945</td>\n",
       "      <td>876.576104</td>\n",
       "      <td>889.910460</td>\n",
       "    </tr>\n",
       "    <tr>\n",
       "      <th>Earning</th>\n",
       "      <td>40.0</td>\n",
       "      <td>2514.890733</td>\n",
       "      <td>282.730852</td>\n",
       "      <td>1939.611243</td>\n",
       "      <td>2186.392257</td>\n",
       "      <td>2280.537426</td>\n",
       "      <td>2544.666107</td>\n",
       "      <td>2761.545405</td>\n",
       "      <td>2813.610925</td>\n",
       "      <td>2931.311449</td>\n",
       "      <td>3091.940894</td>\n",
       "      <td>3171.489708</td>\n",
       "    </tr>\n",
       "  </tbody>\n",
       "</table>\n",
       "</div>"
      ],
      "text/plain": [
       "            count           mean           std           min           10%  \\\n",
       "Impression   40.0  120512.411758  18807.448712  79033.834921  97389.766706   \n",
       "Click        40.0    3967.549761    923.095073   1836.629861   2917.265312   \n",
       "Purchase     40.0     582.106097    161.152513    311.629515    381.054983   \n",
       "Earning      40.0    2514.890733    282.730852   1939.611243   2186.392257   \n",
       "\n",
       "                      25%            50%            75%            90%  \\\n",
       "Impression  112691.970770  119291.300775  132050.578933  141739.315249   \n",
       "Click         3376.819024    3931.359804    4660.497911    5074.011379   \n",
       "Purchase       444.626828     551.355732     699.862360     823.745360   \n",
       "Earning       2280.537426    2544.666107    2761.545405    2813.610925   \n",
       "\n",
       "                      95%            99%            max  \n",
       "Impression  153178.691063  158245.263797  158605.920483  \n",
       "Click         5271.186906    6012.877296    6019.695079  \n",
       "Purchase       854.208945     876.576104     889.910460  \n",
       "Earning       2931.311449    3091.940894    3171.489708  "
      ]
     },
     "execution_count": 40,
     "metadata": {},
     "output_type": "execute_result"
    }
   ],
   "source": [
    "test.describe([0.10, 0.25, 0.50, 0.75, 0.90, 0.95, 0.99]).T"
   ]
  },
  {
   "cell_type": "markdown",
   "metadata": {},
   "source": [
    "**Apparently, there are no outliers in these two group data, and the mean and median values are close to each other. However, box-plot graph will be applied to make sure.**"
   ]
  },
  {
   "cell_type": "markdown",
   "metadata": {},
   "source": [
    "---\n",
    "## &#9703; Separating Purchase columns from datasets"
   ]
  },
  {
   "cell_type": "code",
   "execution_count": 41,
   "metadata": {},
   "outputs": [
    {
     "data": {
      "text/html": [
       "<div>\n",
       "<style scoped>\n",
       "    .dataframe tbody tr th:only-of-type {\n",
       "        vertical-align: middle;\n",
       "    }\n",
       "\n",
       "    .dataframe tbody tr th {\n",
       "        vertical-align: top;\n",
       "    }\n",
       "\n",
       "    .dataframe thead th {\n",
       "        text-align: right;\n",
       "    }\n",
       "</style>\n",
       "<table border=\"1\" class=\"dataframe\">\n",
       "  <thead>\n",
       "    <tr style=\"text-align: right;\">\n",
       "      <th></th>\n",
       "      <th>A</th>\n",
       "      <th>B</th>\n",
       "    </tr>\n",
       "  </thead>\n",
       "  <tbody>\n",
       "    <tr>\n",
       "      <th>count</th>\n",
       "      <td>40.000000</td>\n",
       "      <td>40.000000</td>\n",
       "    </tr>\n",
       "    <tr>\n",
       "      <th>mean</th>\n",
       "      <td>550.894059</td>\n",
       "      <td>582.106097</td>\n",
       "    </tr>\n",
       "    <tr>\n",
       "      <th>std</th>\n",
       "      <td>134.108201</td>\n",
       "      <td>161.152513</td>\n",
       "    </tr>\n",
       "    <tr>\n",
       "      <th>min</th>\n",
       "      <td>267.028943</td>\n",
       "      <td>311.629515</td>\n",
       "    </tr>\n",
       "    <tr>\n",
       "      <th>25%</th>\n",
       "      <td>470.095533</td>\n",
       "      <td>444.626828</td>\n",
       "    </tr>\n",
       "    <tr>\n",
       "      <th>50%</th>\n",
       "      <td>531.206307</td>\n",
       "      <td>551.355732</td>\n",
       "    </tr>\n",
       "    <tr>\n",
       "      <th>75%</th>\n",
       "      <td>637.957088</td>\n",
       "      <td>699.862360</td>\n",
       "    </tr>\n",
       "    <tr>\n",
       "      <th>max</th>\n",
       "      <td>801.795020</td>\n",
       "      <td>889.910460</td>\n",
       "    </tr>\n",
       "  </tbody>\n",
       "</table>\n",
       "</div>"
      ],
      "text/plain": [
       "                A           B\n",
       "count   40.000000   40.000000\n",
       "mean   550.894059  582.106097\n",
       "std    134.108201  161.152513\n",
       "min    267.028943  311.629515\n",
       "25%    470.095533  444.626828\n",
       "50%    531.206307  551.355732\n",
       "75%    637.957088  699.862360\n",
       "max    801.795020  889.910460"
      ]
     },
     "execution_count": 41,
     "metadata": {},
     "output_type": "execute_result"
    }
   ],
   "source": [
    "AB = pd.DataFrame()\n",
    "\n",
    "AB[\"A\"] = control[\"Purchase\"]\n",
    "AB[\"B\"] = test[\"Purchase\"]\n",
    "AB.describe()"
   ]
  },
  {
   "cell_type": "code",
   "execution_count": 42,
   "metadata": {},
   "outputs": [
    {
     "data": {
      "text/html": [
       "<div>\n",
       "<style scoped>\n",
       "    .dataframe tbody tr th:only-of-type {\n",
       "        vertical-align: middle;\n",
       "    }\n",
       "\n",
       "    .dataframe tbody tr th {\n",
       "        vertical-align: top;\n",
       "    }\n",
       "\n",
       "    .dataframe thead th {\n",
       "        text-align: right;\n",
       "    }\n",
       "</style>\n",
       "<table border=\"1\" class=\"dataframe\">\n",
       "  <thead>\n",
       "    <tr style=\"text-align: right;\">\n",
       "      <th></th>\n",
       "      <th>count</th>\n",
       "      <th>mean</th>\n",
       "      <th>std</th>\n",
       "      <th>min</th>\n",
       "      <th>25%</th>\n",
       "      <th>50%</th>\n",
       "      <th>75%</th>\n",
       "      <th>max</th>\n",
       "    </tr>\n",
       "  </thead>\n",
       "  <tbody>\n",
       "    <tr>\n",
       "      <th>A</th>\n",
       "      <td>40.0</td>\n",
       "      <td>550.894059</td>\n",
       "      <td>134.108201</td>\n",
       "      <td>267.028943</td>\n",
       "      <td>470.095533</td>\n",
       "      <td>531.206307</td>\n",
       "      <td>637.957088</td>\n",
       "      <td>801.79502</td>\n",
       "    </tr>\n",
       "    <tr>\n",
       "      <th>B</th>\n",
       "      <td>40.0</td>\n",
       "      <td>582.106097</td>\n",
       "      <td>161.152513</td>\n",
       "      <td>311.629515</td>\n",
       "      <td>444.626828</td>\n",
       "      <td>551.355732</td>\n",
       "      <td>699.862360</td>\n",
       "      <td>889.91046</td>\n",
       "    </tr>\n",
       "  </tbody>\n",
       "</table>\n",
       "</div>"
      ],
      "text/plain": [
       "   count        mean         std         min         25%         50%  \\\n",
       "A   40.0  550.894059  134.108201  267.028943  470.095533  531.206307   \n",
       "B   40.0  582.106097  161.152513  311.629515  444.626828  551.355732   \n",
       "\n",
       "          75%        max  \n",
       "A  637.957088  801.79502  \n",
       "B  699.862360  889.91046  "
      ]
     },
     "execution_count": 42,
     "metadata": {},
     "output_type": "execute_result"
    }
   ],
   "source": [
    "AB.describe().T"
   ]
  },
  {
   "cell_type": "code",
   "execution_count": 43,
   "metadata": {},
   "outputs": [
    {
     "data": {
      "image/png": "[encoded data removed]",
      "text/plain": [
       "<Figure size 432x288 with 1 Axes>"
      ]
     },
     "metadata": {},
     "output_type": "display_data"
    }
   ],
   "source": [
    "vals, names, xs = [],[],[]\n",
    "for i, col in enumerate(AB.columns):\n",
    "    vals.append(AB[col].values)\n",
    "    names.append(col)\n",
    "    xs.append(np.random.normal(i + 1, 0.04, AB[col].values.shape[0]))  # adds jitter to the data points - can be adjusted\n",
    "    \n",
    "plt.boxplot(vals, labels=names)\n",
    "palette = ['#25B89B', '#C20E69']\n",
    "for x, val, c in zip(xs, vals, palette):\n",
    "    plt.scatter(x, val, alpha=0.7, color=c)\n",
    "plt.show()"
   ]
  },
  {
   "cell_type": "markdown",
   "metadata": {},
   "source": [
    "A is control group -- Maximum Bidding  \n",
    "B is test group -- Avarage Bidding\n",
    "\n",
    "When we looking at the averages of these two groups, the test group \"average bidding\", looks better.\n",
    "\n",
    "However, this is only a mathematical inference and **no business decision shouldn't be made based on this result.** \n",
    "\n",
    "Whether the result is random or not should be statistically investigated.\n",
    "\n",
    "The main question is;\n",
    "\n",
    "**Is there a statistically significant difference between these two average of groups?**"
   ]
  },
  {
   "cell_type": "markdown",
   "metadata": {},
   "source": [
    "# &#128270;Two Independent Sample T Test"
   ]
  },
  {
   "cell_type": "markdown",
   "metadata": {},
   "source": [
    "**Assumptions:**\n",
    "\n",
    "1. Normality Assumption  \n",
    "    - This situation will be observed first with qqplot, then final decision will be reached with shapiro-wilks test and skewtest\n",
    "2. Homogeneity of variance\n",
    "    - Levene test "
   ]
  },
  {
   "cell_type": "markdown",
   "metadata": {},
   "source": [
    "## Q - Q Plot"
   ]
  },
  {
   "cell_type": "markdown",
   "metadata": {},
   "source": [
    "### Control Group - Maximum Bidding"
   ]
  },
  {
   "cell_type": "code",
   "execution_count": 44,
   "metadata": {},
   "outputs": [
    {
     "data": {
      "image/png": "[encoded data removed]",
      "text/plain": [
       "<Figure size 432x288 with 1 Axes>"
      ]
     },
     "metadata": {},
     "output_type": "display_data"
    }
   ],
   "source": [
    "stats.probplot(AB[\"A\"], dist=\"norm\", plot=pylab)\n",
    "pylab.title(\"Control Group - Maximum Bidding\")\n",
    "pylab.show()"
   ]
  },
  {
   "cell_type": "markdown",
   "metadata": {},
   "source": [
    "The distribution seems normal, however the shapiro-wilk test will be applied to be sure."
   ]
  },
  {
   "cell_type": "markdown",
   "metadata": {},
   "source": [
    "### Test Group - Average Bidding"
   ]
  },
  {
   "cell_type": "code",
   "execution_count": 45,
   "metadata": {},
   "outputs": [
    {
     "data": {
      "image/png": "[encoded data removed]",
      "text/plain": [
       "<Figure size 432x288 with 1 Axes>"
      ]
     },
     "metadata": {},
     "output_type": "display_data"
    }
   ],
   "source": [
    "stats.probplot(AB[\"B\"], dist=\"norm\", plot=pylab)\n",
    "pylab.title(\"Test Group - Average Bidding\")\n",
    "pylab.show()"
   ]
  },
  {
   "cell_type": "markdown",
   "metadata": {},
   "source": [
    "## 1. Normality Assumption"
   ]
  },
  {
   "cell_type": "markdown",
   "metadata": {},
   "source": [
    "### Shapiro - Wilk Test"
   ]
  },
  {
   "cell_type": "markdown",
   "metadata": {},
   "source": [
    "➠ Ho: The data follows a normal distribution.\n",
    "\n",
    "➠ H1: The data does not follow a normal distribution."
   ]
  },
  {
   "cell_type": "markdown",
   "metadata": {},
   "source": [
    "## 2. Variance Homogenity Assumption"
   ]
  },
  {
   "cell_type": "markdown",
   "metadata": {},
   "source": [
    "### Levene Test"
   ]
  },
  {
   "cell_type": "markdown",
   "metadata": {},
   "source": [
    "➠ Ho: There is no difference between the variance of the both groups.  \n",
    "➠ H1: There is a significant difference between the variance of the both groups."
   ]
  },
  {
   "cell_type": "markdown",
   "metadata": {},
   "source": [
    "## Two Independent Sample T Test Hypothesis"
   ]
  },
  {
   "cell_type": "markdown",
   "metadata": {},
   "source": [
    "➠ Ho: There is not a statistically significant difference between the means with  \n",
    "➠ H1: There is a statistically significant difference between the means with"
   ]
  },
  {
   "cell_type": "markdown",
   "metadata": {},
   "source": [
    "## Other Situations"
   ]
  },
  {
   "cell_type": "markdown",
   "metadata": {},
   "source": [
    "#### At least one group does not follow a normal distribution\n",
    "- In this case the non parametric test \"Mann Whitney - U test\" is applied.\n",
    "\n",
    "#### Groups follow a normal distribution but variances are NOT homogenous\n",
    "- In this case <b>\"Welch Test\"</b> is applied.   \n",
    "- For this option in <b>Two Independent Sample T Test Function</b> `equal_var` = `True` argument is applied."
   ]
  },
  {
   "cell_type": "markdown",
   "metadata": {},
   "source": [
    "---\n",
    "# &#128202; TEST ANALYSIS REPORT"
   ]
  },
  {
   "cell_type": "code",
   "execution_count": 46,
   "metadata": {},
   "outputs": [
    {
     "name": "stdout",
     "output_type": "stream",
     "text": [
      "⁝⁝⁝⁝⁝⁝⁝⁝⁝⁝⁝⁝⁝⁝⁝⁝⁝⁝⁝⁝⁝⁝⁝⁝⁝⁝⁝⁝⁝⁝⁝⁝⁝⁝⁝⁝⁝⁝⁝⁝⁝⁝⁝⁝⁝⁝⁝⁝⁝⁝⁝⁝⁝⁝⁝⁝⁝⁝⁝⁝⁝⁝⁝⁝⁝⁝⁝⁝⁝⁝⁝⁝⁝⁝⁝⁝⁝⁝⁝⁝⁝⁝⁝⁝⁝⁝⁝⁝⁝⁝⁝⁝⁝⁝⁝⁝⁝⁝⁝⁝⁝⁝⁝⁝⁝⁝⁝⁝⁝⁝⁝⁝⁝⁝⁝⁝⁝⁝⁝⁝⁝⁝⁝⁝⁝⁝⁝⁝⁝⁝⁝⁝⁝⁝⁝⁝⁝⁝⁝⁝⁝⁝⁝⁝⁝⁝⁝⁝⁝⁝⁝⁝⁝⁝⁝⁝⁝⁝⁝⁝⁝⁝⁝⁝⁝⁝⁝⁝⁝⁝⁝⁝⁝⁝⁝⁝⁝⁝⁝⁝⁝⁝⁝⁝⁝⁝⁝⁝⁝⁝⁝⁝⁝⁝⁝⁝⁝⁝⁝⁝\n",
      "                          ▚ • AB Test Function Analysis Reports • ▚                 \n",
      "---------------------------------------------------------------------------------------------------- \n",
      "\n",
      "Normality Assumption\n",
      "➠ Ho: The data follows a normal distribution.\n",
      "➠ H1: The data does not follow a normal distribution.\n",
      "---------------------------------------------------------------------------------------------------- \n",
      "\n",
      "▚ Normality Assumption Report \n",
      "\n",
      "A : assumption of normality is provided ✓. | p-value: 0.5891 | Null hypothesis is not rejected.\n",
      "B : assumption of normality is provided ✓. | p-value: 0.1541 | Null hypothesis is not rejected.\n",
      "----------------------------------------------------------------------------------------------------\n",
      "Assumption of normality is provided! ✓✓ Levene Test is loading...\n",
      "---------------------------------------------------------------------------------------------------- \n",
      "\n",
      "Variance Homogenity Assumption\n",
      "➠ Ho: There is no difference between the variance of the both groups.\n",
      "➠ H1: There is a significant difference between the variance of the both groups.\n",
      "---------------------------------------------------------------------------------------------------- \n",
      "\n",
      "▚ Variance Homogenity Assumption Report \n",
      "\n",
      "There is no difference between the variance of the both groups ✓. | p-value 0.1083\n",
      "Assumption of variance homogenity is provided!✓✓ \n",
      "---------------------------------------------------------------------------------------------------- \n",
      "\n",
      "ALL ASSUMPTIONS ARE PROVIDED. TEST STATISTIC IS READY ✓✓✓\n",
      "---------------------------------------------------------------------------------------------------- \n",
      "\n",
      "Test Statistic = -0.9416, p-value = 0.3493\n",
      "Ho: can not rejected. A and B There is NOT  statistically significant difference between the means with  95 % confidence ✓.\n",
      "\n",
      "PLOT\n",
      "\n"
     ]
    },
    {
     "data": {
      "image/png": "[encoded data removed]",
      "text/plain": [
       "<Figure size 432x288 with 1 Axes>"
      ]
     },
     "metadata": {},
     "output_type": "display_data"
    }
   ],
   "source": [
    "test_ab(AB,\"A\", \"B\", alpha = 0.05, plot=True)"
   ]
  },
  {
   "cell_type": "markdown",
   "metadata": {},
   "source": [
    "# 🗒 Result"
   ]
  },
  {
   "cell_type": "markdown",
   "metadata": {},
   "source": [
    "<div class=\"alert alert-block alert-info\" style=\"margin-top: 20px\">\n",
    "<p>&nbsp;</p>\n",
    "<p>As a result of the statistical tests applied to the data obtained by the two groups in the research, the groups <b>provided</b> all the necessary statistical assumptions in the literature. </p>\n",
    "<p>In this direction, it was <b>proved</b> statistically and scientifically that there was <b>no significant difference</b> between the <b>averages</b> of the two groups with <b>95% confidence.</b></p>\n",
    "<p><b>In line with these results, there is not statistically significant difference between purchase of the control group (Max Bidding) and purchase of the test group (Average Bidding)</b></p>\n",
    "<p>&nbsp;</p>\n",
    "</div>"
   ]
  },
  {
   "cell_type": "markdown",
   "metadata": {},
   "source": [
    "---\n",
    "# Website Click Through Rate Analysis (CTR)"
   ]
  },
  {
   "cell_type": "markdown",
   "metadata": {},
   "source": [
    "- It is a rate that shows how often users who saw the ad CLICKED the ad.  \n",
    "- Ad Clicks / Ad Shows"
   ]
  },
  {
   "cell_type": "code",
   "execution_count": 76,
   "metadata": {},
   "outputs": [
    {
     "name": "stdout",
     "output_type": "stream",
     "text": [
      "0.05014831092596444\n",
      "0.032922333085396625\n"
     ]
    }
   ],
   "source": [
    "control_CTR=control[\"Click\"].sum()/control[\"Impression\"].sum()\n",
    "test_CTR= test[\"Click\"].sum() / test[\"Impression\"].sum()\n",
    "\n",
    "print(control_CTR)\n",
    "print(test_CTR)"
   ]
  },
  {
   "cell_type": "code",
   "execution_count": 70,
   "metadata": {},
   "outputs": [
    {
     "data": {
      "image/png": "[encoded data removed]",
      "text/plain": [
       "<Figure size 432x288 with 1 Axes>"
      ]
     },
     "metadata": {},
     "output_type": "display_data"
    }
   ],
   "source": [
    "df_CTR = pd.DataFrame({\"Existing(MAX) CTR\":[control_CTR], \"New(AVG) CTR\": [test_CTR]})\n",
    "df_CTR.plot.bar(rot=0).legend(loc=3) ;"
   ]
  },
  {
   "cell_type": "markdown",
   "metadata": {},
   "source": [
    "**Hypothesis**  \n",
    "➠Ho: The experiment has no effect on user behavior. (p_cont = p_test)  \n",
    "➠H1: The experiment has an effect on user behavior. (p_cont ≠ p_test)"
   ]
  },
  {
   "cell_type": "code",
   "execution_count": 49,
   "metadata": {},
   "outputs": [
    {
     "data": {
      "text/plain": [
       "(129.3304801715903, 0.0)"
      ]
     },
     "execution_count": 49,
     "metadata": {},
     "output_type": "execute_result"
    }
   ],
   "source": [
    "clicks= np.array([control[\"Click\"].sum(),test[\"Click\"].sum()])\n",
    "shows= np.array([control[\"Impression\"].sum(), test[\"Impression\"].sum()])\n",
    "proportions_ztest(count=clicks, nobs=shows)"
   ]
  },
  {
   "cell_type": "markdown",
   "metadata": {},
   "source": [
    "# 🗒 Result of CTR"
   ]
  },
  {
   "cell_type": "markdown",
   "metadata": {},
   "source": [
    "<div class=\"alert alert-block alert-info\" style=\"margin-top: 20px\">\n",
    "<p>p - value &lt; 0.05 ➠ <strong>Reject Ho hypthesis. ( The experiment has no effect on user behavior. ) </strong></p>\n",
    "<p>When the bidding methods are examined, the effect of these methods on user behavior <strong>(clicks)</strong> is <strong>different.</strong> </p>\n",
    "<p>And this difference is in favor of the current <strong>&quot;max bidding&quot;</strong> method.</p>\n",
    "</div>"
   ]
  },
  {
   "cell_type": "markdown",
   "metadata": {},
   "source": [
    "---\n",
    "# Conversion Rate"
   ]
  },
  {
   "cell_type": "markdown",
   "metadata": {},
   "source": [
    "<p>Conversion rate is calculated by dividing the <strong>number of conversions</strong> by the <strong>total number of visitors.</strong> </p>\n",
    "<p>For example, if an ecommerce site gets 200 visitors a month and has 50 sales, the conversion rate would equal <strong>25%</strong>.</p>"
   ]
  },
  {
   "cell_type": "code",
   "execution_count": 64,
   "metadata": {},
   "outputs": [
    {
     "name": "stdout",
     "output_type": "stream",
     "text": [
      "Max Bidding CR: 0.0054\n",
      "AVG Bidding CR: 0.0048\n"
     ]
    }
   ],
   "source": [
    "control_CR = control[\"Purchase\"].sum()/control[\"Impression\"].sum()\n",
    "test_CR = test[\"Purchase\"].sum() / test[\"Impression\"].sum()\n",
    "\n",
    "print(\"Max Bidding CR:\", round(control_CR,4))\n",
    "print(\"AVG Bidding CR:\", round(test_CR,4))"
   ]
  },
  {
   "cell_type": "code",
   "execution_count": 69,
   "metadata": {},
   "outputs": [
    {
     "data": {
      "image/png": "[encoded data removed]",
      "text/plain": [
       "<Figure size 432x288 with 1 Axes>"
      ]
     },
     "metadata": {},
     "output_type": "display_data"
    }
   ],
   "source": [
    "df_CR=pd.DataFrame({\"Existing(max) CR\":[control_CR], \"New(avg) CR\": [test_CR]})\n",
    "df_CR.plot.bar(rot=0).legend(loc=3) ;"
   ]
  },
  {
   "cell_type": "markdown",
   "metadata": {},
   "source": [
    "**Hypothesis**  \n",
    "➠Ho: The experiment has no effect on user behavior. (p_cont = p_test)  \n",
    "➠H1: The experiment has an effect on user behavior. (p_cont ≠ p_test)"
   ]
  },
  {
   "cell_type": "code",
   "execution_count": 71,
   "metadata": {},
   "outputs": [
    {
     "data": {
      "text/plain": [
       "(12.221173465876399, 2.39600929947382e-34)"
      ]
     },
     "execution_count": 71,
     "metadata": {},
     "output_type": "execute_result"
    }
   ],
   "source": [
    "purchase= np.array([control[\"Purchase\"].sum(),test[\"Purchase\"].sum()])\n",
    "impression= np.array([control[\"Impression\"].sum(), test[\"Impression\"].sum()])\n",
    "proportions_ztest(count=purchase, nobs=impression)"
   ]
  },
  {
   "cell_type": "markdown",
   "metadata": {},
   "source": [
    "# 🗒 Result of Conversion Rate"
   ]
  },
  {
   "cell_type": "markdown",
   "metadata": {},
   "source": [
    "<div class=\"alert alert-block alert-info\" style=\"margin-top: 20px\">\n",
    "<p>p - value &lt; 0.05 ➠ <strong>Reject Ho hypthesis. ( The experiment has no effect on user behavior. ) </strong></p>\n",
    "<p>When the bidding methods are examined, the effect of these methods on user behavior <strong>(Purchasing)</strong> is <strong>different.</strong> </p>\n",
    "<p>And this difference is in favor of the current <strong>&quot;max bidding&quot;</strong> method.</p>\n",
    "</div>"
   ]
  },
  {
   "cell_type": "markdown",
   "metadata": {},
   "source": [
    "---\n",
    "# 📑 MAIN RESULTS"
   ]
  },
  {
   "cell_type": "markdown",
   "metadata": {},
   "source": [
    "<div class=\"alert alert-warning\" role=\"alert\" style=\"margin-top: 20px\">\n",
    "<ul>\n",
    "<li>Control and test group data were analyzed.</li>\n",
    "<li>No NA value was observed in both groups.</li>\n",
    "<li>When looked with the boxplot method, it was observed that there was no outlier in both groups.</li>\n",
    "<li>Testing was done between these two groups. Control group using the max bidding method as called A Test group using the new method, average bidding as called B</li>\n",
    "<li>Two independent samples t test was deemed appropriate for this comparison.</li>\n",
    "<li>For two independent samples t test; variance homogeneity and normality assumption were provided.</li>\n",
    "\n",
    "</ul>\n",
    "<hr />\n",
    "<p><strong>Is the new system advantageous?</strong></p>\n",
    "<p>As a result of the statistical tests applied to the data obtained by the two groups in the research, the groups <strong>provided</strong> all the necessary statistical assumptions in the literature.</p>\n",
    "<p>In this direction, it was <strong>proved</strong> statistically and scientifically that there was <strong>no significant difference</strong> between the <strong>averages</strong> of the two groups with <strong>95% confidence.</strong></p>\n",
    "<p>In line with these results, <strong>there is not statistically significant difference</strong> between purchase of the control group (Max Bidding) and purchase of the test group (Average Bidding)</p>\n",
    "<p><strong>The new method does not benefit your agency in terms of purchasing</strong></p>\n",
    "<hr />\n",
    "<p><strong>Did the user who saw the ad click on the ad in the new system?</strong></p>\n",
    "<p>There is a difference in <strong>Clicking</strong> between the two methods, but this is in favor of <strong>&quot;Maximum Bidding&quot;</strong>, which is the system your agency <strong>currently use.</strong></p>\n",
    "<hr />\n",
    "<p><strong>Did visitors buy the product in the new system?</strong></p>\n",
    "<p>There is a difference in <strong>Purchasing</strong> between the two methods, but this is in favor of <strong>&quot;Maximum Bidding&quot;</strong>, which is the system your agency <strong>currently use.</strong></p>\n",
    "<p>&nbsp;</p>\n",
    "</div>"
   ]
  },
  {
   "cell_type": "markdown",
   "metadata": {},
   "source": [
    "# &#128477; Action Suggestions by Our Company"
   ]
  },
  {
   "cell_type": "markdown",
   "metadata": {},
   "source": [
    "<div class=\"alert alert-success\" role=\"alert\">\n",
    "<p>As a result of the statistical tests carried out, the new system &quot;Average Bidding&quot; has not been observed to benefit your company.</p>\n",
    "<p>Some advice for action:</p>\n",
    "<p><strong>We recommend that you continue with the existing system.</strong></p>\n",
    "<ul>\n",
    "<li>A new test can be done by increasing the number of samples.</li>"
   ]
  }
 ],
 "metadata": {
  "kernelspec": {
   "display_name": "Python 3",
   "language": "python",
   "name": "python3"
  },
  "language_info": {
   "codemirror_mode": {
    "name": "ipython",
    "version": 3
   },
   "file_extension": ".py",
   "mimetype": "text/x-python",
   "name": "python",
   "nbconvert_exporter": "python",
   "pygments_lexer": "ipython3",
   "version": "3.8.3"
  }
 },
 "nbformat": 4,
 "nbformat_minor": 4
}
